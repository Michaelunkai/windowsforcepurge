{
 "cells": [
  {
   "cell_type": "markdown",
   "id": "94b460aa",
   "metadata": {
    "papermill": {
     "duration": 0.010703,
     "end_time": "2024-05-15T09:05:19.999375",
     "exception": false,
     "start_time": "2024-05-15T09:05:19.988672",
     "status": "completed"
    },
    "tags": []
   },
   "source": [
    "# Ex3 - Getting and Knowing your Data"
   ]
  },
  {
   "cell_type": "markdown",
   "id": "5ab411b0",
   "metadata": {
    "papermill": {
     "duration": 0.009347,
     "end_time": "2024-05-15T09:05:20.018838",
     "exception": false,
     "start_time": "2024-05-15T09:05:20.009491",
     "status": "completed"
    },
    "tags": []
   },
   "source": [
    "This time we are going to pull data directly from the internet.\n",
    "Special thanks to: https://github.com/justmarkham for sharing the dataset and materials.\n",
    "\n",
    "### Step 1. Import the necessary libraries"
   ]
  },
  {
   "cell_type": "code",
   "execution_count": null,
   "id": "87f0dc94",
   "metadata": {
    "collapsed": false,
    "jupyter": {
     "outputs_hidden": false
    },
    "papermill": {
     "duration": 0.011327,
     "end_time": "2024-05-15T09:05:20.039690",
     "exception": false,
     "start_time": "2024-05-15T09:05:20.028363",
     "status": "completed"
    },
    "tags": []
   },
   "outputs": [],
   "source": []
  },
  {
   "cell_type": "markdown",
   "id": "f7f2dc55",
   "metadata": {
    "papermill": {
     "duration": 0.009358,
     "end_time": "2024-05-15T09:05:20.058868",
     "exception": false,
     "start_time": "2024-05-15T09:05:20.049510",
     "status": "completed"
    },
    "tags": []
   },
   "source": [
    "### Step 2. Import the dataset from this [address](https://raw.githubusercontent.com/justmarkham/DAT8/master/data/u.user). "
   ]
  },
  {
   "cell_type": "code",
   "execution_count": null,
   "id": "3c1a36b4",
   "metadata": {
    "papermill": {
     "duration": 0.009268,
     "end_time": "2024-05-15T09:05:20.077801",
     "exception": false,
     "start_time": "2024-05-15T09:05:20.068533",
     "status": "completed"
    },
    "tags": []
   },
   "outputs": [],
   "source": []
  },
  {
   "cell_type": "markdown",
   "id": "547dca0a",
   "metadata": {
    "papermill": {
     "duration": 0.009861,
     "end_time": "2024-05-15T09:05:20.097201",
     "exception": false,
     "start_time": "2024-05-15T09:05:20.087340",
     "status": "completed"
    },
    "tags": []
   },
   "source": [
    "### Step 3. Assign it to a variable called users and use the 'user_id' as index"
   ]
  },
  {
   "cell_type": "code",
   "execution_count": null,
   "id": "166748e3",
   "metadata": {
    "collapsed": false,
    "jupyter": {
     "outputs_hidden": false
    },
    "papermill": {
     "duration": 0.010489,
     "end_time": "2024-05-15T09:05:20.117334",
     "exception": false,
     "start_time": "2024-05-15T09:05:20.106845",
     "status": "completed"
    },
    "tags": []
   },
   "outputs": [],
   "source": []
  },
  {
   "cell_type": "markdown",
   "id": "f818b3c8",
   "metadata": {
    "papermill": {
     "duration": 0.009275,
     "end_time": "2024-05-15T09:05:20.136180",
     "exception": false,
     "start_time": "2024-05-15T09:05:20.126905",
     "status": "completed"
    },
    "tags": []
   },
   "source": [
    "### Step 4. See the first 25 entries"
   ]
  },
  {
   "cell_type": "code",
   "execution_count": null,
   "id": "3528caa8",
   "metadata": {
    "collapsed": false,
    "jupyter": {
     "outputs_hidden": false
    },
    "papermill": {
     "duration": 0.009205,
     "end_time": "2024-05-15T09:05:20.155051",
     "exception": false,
     "start_time": "2024-05-15T09:05:20.145846",
     "status": "completed"
    },
    "scrolled": true,
    "tags": []
   },
   "outputs": [],
   "source": []
  },
  {
   "cell_type": "markdown",
   "id": "52fe2314",
   "metadata": {
    "papermill": {
     "duration": 0.009288,
     "end_time": "2024-05-15T09:05:20.174089",
     "exception": false,
     "start_time": "2024-05-15T09:05:20.164801",
     "status": "completed"
    },
    "tags": []
   },
   "source": [
    "### Step 5. See the last 10 entries"
   ]
  },
  {
   "cell_type": "code",
   "execution_count": null,
   "id": "67c6c05c",
   "metadata": {
    "collapsed": false,
    "jupyter": {
     "outputs_hidden": false
    },
    "papermill": {
     "duration": 0.009314,
     "end_time": "2024-05-15T09:05:20.192995",
     "exception": false,
     "start_time": "2024-05-15T09:05:20.183681",
     "status": "completed"
    },
    "scrolled": true,
    "tags": []
   },
   "outputs": [],
   "source": []
  },
  {
   "cell_type": "markdown",
   "id": "d190bc15",
   "metadata": {
    "papermill": {
     "duration": 0.009252,
     "end_time": "2024-05-15T09:05:20.211855",
     "exception": false,
     "start_time": "2024-05-15T09:05:20.202603",
     "status": "completed"
    },
    "tags": []
   },
   "source": [
    "### Step 6. What is the number of observations in the dataset?"
   ]
  },
  {
   "cell_type": "code",
   "execution_count": null,
   "id": "f3326a03",
   "metadata": {
    "collapsed": false,
    "jupyter": {
     "outputs_hidden": false
    },
    "papermill": {
     "duration": 0.009155,
     "end_time": "2024-05-15T09:05:20.230645",
     "exception": false,
     "start_time": "2024-05-15T09:05:20.221490",
     "status": "completed"
    },
    "tags": []
   },
   "outputs": [],
   "source": []
  },
  {
   "cell_type": "markdown",
   "id": "a4ac16e8",
   "metadata": {
    "papermill": {
     "duration": 0.009448,
     "end_time": "2024-05-15T09:05:20.249549",
     "exception": false,
     "start_time": "2024-05-15T09:05:20.240101",
     "status": "completed"
    },
    "tags": []
   },
   "source": [
    "### Step 7. What is the number of columns in the dataset?"
   ]
  },
  {
   "cell_type": "code",
   "execution_count": null,
   "id": "d0dd0d0a",
   "metadata": {
    "collapsed": false,
    "jupyter": {
     "outputs_hidden": false
    },
    "papermill": {
     "duration": 0.009277,
     "end_time": "2024-05-15T09:05:20.268218",
     "exception": false,
     "start_time": "2024-05-15T09:05:20.258941",
     "status": "completed"
    },
    "tags": []
   },
   "outputs": [],
   "source": []
  },
  {
   "cell_type": "markdown",
   "id": "36c28d81",
   "metadata": {
    "papermill": {
     "duration": 0.009216,
     "end_time": "2024-05-15T09:05:20.287092",
     "exception": false,
     "start_time": "2024-05-15T09:05:20.277876",
     "status": "completed"
    },
    "tags": []
   },
   "source": [
    "### Step 8. Print the name of all the columns."
   ]
  },
  {
   "cell_type": "code",
   "execution_count": null,
   "id": "548997a1",
   "metadata": {
    "collapsed": false,
    "jupyter": {
     "outputs_hidden": false
    },
    "papermill": {
     "duration": 0.010027,
     "end_time": "2024-05-15T09:05:20.307009",
     "exception": false,
     "start_time": "2024-05-15T09:05:20.296982",
     "status": "completed"
    },
    "tags": []
   },
   "outputs": [],
   "source": []
  },
  {
   "cell_type": "markdown",
   "id": "924c8b20",
   "metadata": {
    "papermill": {
     "duration": 0.009202,
     "end_time": "2024-05-15T09:05:20.325872",
     "exception": false,
     "start_time": "2024-05-15T09:05:20.316670",
     "status": "completed"
    },
    "tags": []
   },
   "source": [
    "### Step 9. How is the dataset indexed?"
   ]
  },
  {
   "cell_type": "code",
   "execution_count": null,
   "id": "64f013fe",
   "metadata": {
    "collapsed": false,
    "jupyter": {
     "outputs_hidden": false
    },
    "papermill": {
     "duration": 0.009245,
     "end_time": "2024-05-15T09:05:20.344764",
     "exception": false,
     "start_time": "2024-05-15T09:05:20.335519",
     "status": "completed"
    },
    "tags": []
   },
   "outputs": [],
   "source": []
  },
  {
   "cell_type": "markdown",
   "id": "16233f1b",
   "metadata": {
    "papermill": {
     "duration": 0.009357,
     "end_time": "2024-05-15T09:05:20.363650",
     "exception": false,
     "start_time": "2024-05-15T09:05:20.354293",
     "status": "completed"
    },
    "tags": []
   },
   "source": [
    "### Step 10. What is the data type of each column?"
   ]
  },
  {
   "cell_type": "code",
   "execution_count": null,
   "id": "fce4cb02",
   "metadata": {
    "collapsed": false,
    "jupyter": {
     "outputs_hidden": false
    },
    "papermill": {
     "duration": 0.009253,
     "end_time": "2024-05-15T09:05:20.382433",
     "exception": false,
     "start_time": "2024-05-15T09:05:20.373180",
     "status": "completed"
    },
    "tags": []
   },
   "outputs": [],
   "source": []
  },
  {
   "cell_type": "markdown",
   "id": "777b3d60",
   "metadata": {
    "papermill": {
     "duration": 0.00918,
     "end_time": "2024-05-15T09:05:20.401244",
     "exception": false,
     "start_time": "2024-05-15T09:05:20.392064",
     "status": "completed"
    },
    "tags": []
   },
   "source": [
    "### Step 11. Print only the occupation column"
   ]
  },
  {
   "cell_type": "code",
   "execution_count": null,
   "id": "e114a227",
   "metadata": {
    "collapsed": false,
    "jupyter": {
     "outputs_hidden": false
    },
    "papermill": {
     "duration": 0.009328,
     "end_time": "2024-05-15T09:05:20.420129",
     "exception": false,
     "start_time": "2024-05-15T09:05:20.410801",
     "status": "completed"
    },
    "tags": []
   },
   "outputs": [],
   "source": []
  },
  {
   "cell_type": "markdown",
   "id": "a5ab14a6",
   "metadata": {
    "papermill": {
     "duration": 0.009225,
     "end_time": "2024-05-15T09:05:20.438934",
     "exception": false,
     "start_time": "2024-05-15T09:05:20.429709",
     "status": "completed"
    },
    "tags": []
   },
   "source": [
    "### Step 12. How many different occupations are in this dataset?"
   ]
  },
  {
   "cell_type": "code",
   "execution_count": null,
   "id": "24f64aed",
   "metadata": {
    "collapsed": false,
    "jupyter": {
     "outputs_hidden": false
    },
    "papermill": {
     "duration": 0.009157,
     "end_time": "2024-05-15T09:05:20.457857",
     "exception": false,
     "start_time": "2024-05-15T09:05:20.448700",
     "status": "completed"
    },
    "tags": []
   },
   "outputs": [],
   "source": []
  },
  {
   "cell_type": "markdown",
   "id": "354e0c2c",
   "metadata": {
    "papermill": {
     "duration": 0.00932,
     "end_time": "2024-05-15T09:05:20.476602",
     "exception": false,
     "start_time": "2024-05-15T09:05:20.467282",
     "status": "completed"
    },
    "tags": []
   },
   "source": [
    "### Step 13. What is the most frequent occupation?"
   ]
  },
  {
   "cell_type": "code",
   "execution_count": null,
   "id": "8e2fbbcc",
   "metadata": {
    "collapsed": false,
    "jupyter": {
     "outputs_hidden": false
    },
    "papermill": {
     "duration": 0.009213,
     "end_time": "2024-05-15T09:05:20.495276",
     "exception": false,
     "start_time": "2024-05-15T09:05:20.486063",
     "status": "completed"
    },
    "tags": []
   },
   "outputs": [],
   "source": []
  },
  {
   "cell_type": "markdown",
   "id": "8cc23df3",
   "metadata": {
    "papermill": {
     "duration": 0.009249,
     "end_time": "2024-05-15T09:05:20.514618",
     "exception": false,
     "start_time": "2024-05-15T09:05:20.505369",
     "status": "completed"
    },
    "tags": []
   },
   "source": [
    "### Step 14. Summarize the DataFrame."
   ]
  },
  {
   "cell_type": "code",
   "execution_count": null,
   "id": "a410fae3",
   "metadata": {
    "collapsed": false,
    "jupyter": {
     "outputs_hidden": false
    },
    "papermill": {
     "duration": 0.009418,
     "end_time": "2024-05-15T09:05:20.533642",
     "exception": false,
     "start_time": "2024-05-15T09:05:20.524224",
     "status": "completed"
    },
    "tags": []
   },
   "outputs": [],
   "source": []
  },
  {
   "cell_type": "markdown",
   "id": "bcdd9559",
   "metadata": {
    "papermill": {
     "duration": 0.009513,
     "end_time": "2024-05-15T09:05:20.553884",
     "exception": false,
     "start_time": "2024-05-15T09:05:20.544371",
     "status": "completed"
    },
    "tags": []
   },
   "source": [
    "### Step 15. Summarize all the columns"
   ]
  },
  {
   "cell_type": "code",
   "execution_count": null,
   "id": "fc2a52a3",
   "metadata": {
    "collapsed": false,
    "jupyter": {
     "outputs_hidden": false
    },
    "papermill": {
     "duration": 0.00924,
     "end_time": "2024-05-15T09:05:20.572782",
     "exception": false,
     "start_time": "2024-05-15T09:05:20.563542",
     "status": "completed"
    },
    "tags": []
   },
   "outputs": [],
   "source": []
  },
  {
   "cell_type": "markdown",
   "id": "75eb1b60",
   "metadata": {
    "papermill": {
     "duration": 0.009226,
     "end_time": "2024-05-15T09:05:20.591429",
     "exception": false,
     "start_time": "2024-05-15T09:05:20.582203",
     "status": "completed"
    },
    "tags": []
   },
   "source": [
    "### Step 16. Summarize only the occupation column"
   ]
  },
  {
   "cell_type": "code",
   "execution_count": null,
   "id": "9c767777",
   "metadata": {
    "collapsed": false,
    "jupyter": {
     "outputs_hidden": false
    },
    "papermill": {
     "duration": 0.009103,
     "end_time": "2024-05-15T09:05:20.610027",
     "exception": false,
     "start_time": "2024-05-15T09:05:20.600924",
     "status": "completed"
    },
    "tags": []
   },
   "outputs": [],
   "source": []
  },
  {
   "cell_type": "markdown",
   "id": "6b8cefea",
   "metadata": {
    "papermill": {
     "duration": 0.009224,
     "end_time": "2024-05-15T09:05:20.628832",
     "exception": false,
     "start_time": "2024-05-15T09:05:20.619608",
     "status": "completed"
    },
    "tags": []
   },
   "source": [
    "### Step 17. What is the mean age of users?"
   ]
  },
  {
   "cell_type": "code",
   "execution_count": null,
   "id": "215d2c69",
   "metadata": {
    "collapsed": false,
    "jupyter": {
     "outputs_hidden": false
    },
    "papermill": {
     "duration": 0.009389,
     "end_time": "2024-05-15T09:05:20.647728",
     "exception": false,
     "start_time": "2024-05-15T09:05:20.638339",
     "status": "completed"
    },
    "tags": []
   },
   "outputs": [],
   "source": []
  },
  {
   "cell_type": "markdown",
   "id": "04e2647c",
   "metadata": {
    "papermill": {
     "duration": 0.009601,
     "end_time": "2024-05-15T09:05:20.666872",
     "exception": false,
     "start_time": "2024-05-15T09:05:20.657271",
     "status": "completed"
    },
    "tags": []
   },
   "source": [
    "### Step 18. What is the age with least occurrence?"
   ]
  },
  {
   "cell_type": "code",
   "execution_count": null,
   "id": "3bcbe745",
   "metadata": {
    "collapsed": false,
    "jupyter": {
     "outputs_hidden": false
    },
    "papermill": {
     "duration": 0.009323,
     "end_time": "2024-05-15T09:05:20.686075",
     "exception": false,
     "start_time": "2024-05-15T09:05:20.676752",
     "status": "completed"
    },
    "tags": []
   },
   "outputs": [],
   "source": []
  }
 ],
 "metadata": {
  "kaggle": {
   "accelerator": "none",
   "dataSources": [
    {
     "datasetId": 5011184,
     "sourceId": 8418200,
     "sourceType": "datasetVersion"
    }
   ],
   "isGpuEnabled": false,
   "isInternetEnabled": true,
   "language": "python",
   "sourceType": "notebook"
  },
  "kernelspec": {
   "display_name": "Python 3",
   "language": "python",
   "name": "python3"
  },
  "language_info": {
   "codemirror_mode": {
    "name": "ipython",
    "version": 3
   },
   "file_extension": ".py",
   "mimetype": "text/x-python",
   "name": "python",
   "nbconvert_exporter": "python",
   "pygments_lexer": "ipython3",
   "version": "3.10.13"
  },
  "papermill": {
   "default_parameters": {},
   "duration": 4.118766,
   "end_time": "2024-05-15T09:05:21.115614",
   "environment_variables": {},
   "exception": null,
   "input_path": "__notebook__.ipynb",
   "output_path": "__notebook__.ipynb",
   "parameters": {},
   "start_time": "2024-05-15T09:05:16.996848",
   "version": "2.5.0"
  }
 },
 "nbformat": 4,
 "nbformat_minor": 5
}
